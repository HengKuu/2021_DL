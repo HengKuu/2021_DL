{
 "cells": [
  {
   "cell_type": "code",
   "execution_count": 19,
   "id": "987ada68",
   "metadata": {},
   "outputs": [],
   "source": [
    "# Import libraries\n",
    "import pandas as pd\n",
    "import numpy as np\n",
    "import matplotlib.pyplot as plt\n",
    "import seaborn as sns\n",
    "import pickle\n",
    "\n",
    "from sklearn.preprocessing import StandardScaler\n",
    "from sklearn.model_selection import train_test_split, GridSearchCV, cross_val_score\n",
    "from sklearn.pipeline import Pipeline\n",
    "from sklearn.linear_model import LogisticRegression\n",
    "from sklearn.metrics import (confusion_matrix, classification_report, plot_roc_curve, roc_auc_score, \n",
    "accuracy_score, precision_score, recall_score, f1_score, auc, precision_recall_curve, average_precision_score)\n",
    "from sklearn.ensemble import (RandomForestClassifier, ExtraTreesClassifier, GradientBoostingClassifier, \n",
    "                              AdaBoostClassifier)\n",
    "from sklearn.svm import SVC\n",
    "\n",
    "import xgboost as xgb\n",
    "from xgboost import XGBClassifier"
   ]
  },
  {
   "cell_type": "code",
   "execution_count": 20,
   "id": "e2ec05db",
   "metadata": {},
   "outputs": [],
   "source": [
    "# load data\n",
    "df_train = pd.read_csv('../chk_output/train_processed.csv')\n",
    "df_test = pd.read_csv('../chk_output/test_processed.csv')"
   ]
  },
  {
   "cell_type": "code",
   "execution_count": 21,
   "id": "87519716",
   "metadata": {},
   "outputs": [
    {
     "data": {
      "text/html": [
       "<div>\n",
       "<style scoped>\n",
       "    .dataframe tbody tr th:only-of-type {\n",
       "        vertical-align: middle;\n",
       "    }\n",
       "\n",
       "    .dataframe tbody tr th {\n",
       "        vertical-align: top;\n",
       "    }\n",
       "\n",
       "    .dataframe thead th {\n",
       "        text-align: right;\n",
       "    }\n",
       "</style>\n",
       "<table border=\"1\" class=\"dataframe\">\n",
       "  <thead>\n",
       "    <tr style=\"text-align: right;\">\n",
       "      <th></th>\n",
       "      <th>Popularity</th>\n",
       "      <th>popular_author</th>\n",
       "      <th>is_weekend</th>\n",
       "      <th>popular_month</th>\n",
       "      <th>popular_channel</th>\n",
       "      <th>1334</th>\n",
       "      <th>500</th>\n",
       "      <th>1303</th>\n",
       "      <th>542</th>\n",
       "      <th>1844</th>\n",
       "      <th>...</th>\n",
       "      <th>1005</th>\n",
       "      <th>1836</th>\n",
       "      <th>380</th>\n",
       "      <th>1204</th>\n",
       "      <th>217</th>\n",
       "      <th>569</th>\n",
       "      <th>18</th>\n",
       "      <th>1436</th>\n",
       "      <th>1298</th>\n",
       "      <th>1617</th>\n",
       "    </tr>\n",
       "  </thead>\n",
       "  <tbody>\n",
       "    <tr>\n",
       "      <th>0</th>\n",
       "      <td>-1</td>\n",
       "      <td>0</td>\n",
       "      <td>0</td>\n",
       "      <td>0</td>\n",
       "      <td>-2</td>\n",
       "      <td>0.0</td>\n",
       "      <td>0.0</td>\n",
       "      <td>0.0</td>\n",
       "      <td>0.0</td>\n",
       "      <td>0.0</td>\n",
       "      <td>...</td>\n",
       "      <td>0.0</td>\n",
       "      <td>0.0</td>\n",
       "      <td>0.0</td>\n",
       "      <td>0.0</td>\n",
       "      <td>0.0</td>\n",
       "      <td>0.000000</td>\n",
       "      <td>0.0</td>\n",
       "      <td>0.0</td>\n",
       "      <td>0.0</td>\n",
       "      <td>0.0</td>\n",
       "    </tr>\n",
       "    <tr>\n",
       "      <th>1</th>\n",
       "      <td>1</td>\n",
       "      <td>0</td>\n",
       "      <td>0</td>\n",
       "      <td>1</td>\n",
       "      <td>2</td>\n",
       "      <td>0.0</td>\n",
       "      <td>0.0</td>\n",
       "      <td>0.0</td>\n",
       "      <td>0.0</td>\n",
       "      <td>0.0</td>\n",
       "      <td>...</td>\n",
       "      <td>0.0</td>\n",
       "      <td>0.0</td>\n",
       "      <td>0.0</td>\n",
       "      <td>0.0</td>\n",
       "      <td>0.0</td>\n",
       "      <td>-0.316228</td>\n",
       "      <td>0.0</td>\n",
       "      <td>0.0</td>\n",
       "      <td>0.0</td>\n",
       "      <td>0.0</td>\n",
       "    </tr>\n",
       "    <tr>\n",
       "      <th>2</th>\n",
       "      <td>1</td>\n",
       "      <td>0</td>\n",
       "      <td>0</td>\n",
       "      <td>0</td>\n",
       "      <td>-2</td>\n",
       "      <td>0.0</td>\n",
       "      <td>0.0</td>\n",
       "      <td>0.0</td>\n",
       "      <td>0.0</td>\n",
       "      <td>0.0</td>\n",
       "      <td>...</td>\n",
       "      <td>0.0</td>\n",
       "      <td>0.0</td>\n",
       "      <td>0.0</td>\n",
       "      <td>0.0</td>\n",
       "      <td>0.0</td>\n",
       "      <td>0.000000</td>\n",
       "      <td>0.0</td>\n",
       "      <td>0.0</td>\n",
       "      <td>0.0</td>\n",
       "      <td>0.0</td>\n",
       "    </tr>\n",
       "  </tbody>\n",
       "</table>\n",
       "<p>3 rows × 100 columns</p>\n",
       "</div>"
      ],
      "text/plain": [
       "   Popularity  popular_author  is_weekend  popular_month  popular_channel  \\\n",
       "0          -1               0           0              0               -2   \n",
       "1           1               0           0              1                2   \n",
       "2           1               0           0              0               -2   \n",
       "\n",
       "   1334  500  1303  542  1844  ...  1005  1836  380  1204  217       569   18  \\\n",
       "0   0.0  0.0   0.0  0.0   0.0  ...   0.0   0.0  0.0   0.0  0.0  0.000000  0.0   \n",
       "1   0.0  0.0   0.0  0.0   0.0  ...   0.0   0.0  0.0   0.0  0.0 -0.316228  0.0   \n",
       "2   0.0  0.0   0.0  0.0   0.0  ...   0.0   0.0  0.0   0.0  0.0  0.000000  0.0   \n",
       "\n",
       "   1436  1298  1617  \n",
       "0   0.0   0.0   0.0  \n",
       "1   0.0   0.0   0.0  \n",
       "2   0.0   0.0   0.0  \n",
       "\n",
       "[3 rows x 100 columns]"
      ]
     },
     "metadata": {},
     "output_type": "display_data"
    },
    {
     "data": {
      "text/html": [
       "<div>\n",
       "<style scoped>\n",
       "    .dataframe tbody tr th:only-of-type {\n",
       "        vertical-align: middle;\n",
       "    }\n",
       "\n",
       "    .dataframe tbody tr th {\n",
       "        vertical-align: top;\n",
       "    }\n",
       "\n",
       "    .dataframe thead th {\n",
       "        text-align: right;\n",
       "    }\n",
       "</style>\n",
       "<table border=\"1\" class=\"dataframe\">\n",
       "  <thead>\n",
       "    <tr style=\"text-align: right;\">\n",
       "      <th></th>\n",
       "      <th>popular_author</th>\n",
       "      <th>is_weekend</th>\n",
       "      <th>popular_month</th>\n",
       "      <th>popular_channel</th>\n",
       "      <th>1334</th>\n",
       "      <th>500</th>\n",
       "      <th>1303</th>\n",
       "      <th>542</th>\n",
       "      <th>1844</th>\n",
       "      <th>736</th>\n",
       "      <th>...</th>\n",
       "      <th>1005</th>\n",
       "      <th>1836</th>\n",
       "      <th>380</th>\n",
       "      <th>1204</th>\n",
       "      <th>217</th>\n",
       "      <th>569</th>\n",
       "      <th>18</th>\n",
       "      <th>1436</th>\n",
       "      <th>1298</th>\n",
       "      <th>1617</th>\n",
       "    </tr>\n",
       "  </thead>\n",
       "  <tbody>\n",
       "    <tr>\n",
       "      <th>0</th>\n",
       "      <td>0</td>\n",
       "      <td>0</td>\n",
       "      <td>0</td>\n",
       "      <td>0</td>\n",
       "      <td>0.0</td>\n",
       "      <td>0.0</td>\n",
       "      <td>0.0</td>\n",
       "      <td>0.0</td>\n",
       "      <td>0.0</td>\n",
       "      <td>0.0</td>\n",
       "      <td>...</td>\n",
       "      <td>0.0</td>\n",
       "      <td>0.0</td>\n",
       "      <td>0.0</td>\n",
       "      <td>0.0</td>\n",
       "      <td>0.0</td>\n",
       "      <td>0.0</td>\n",
       "      <td>0.0</td>\n",
       "      <td>0.0</td>\n",
       "      <td>0.0</td>\n",
       "      <td>0.0</td>\n",
       "    </tr>\n",
       "    <tr>\n",
       "      <th>1</th>\n",
       "      <td>0</td>\n",
       "      <td>0</td>\n",
       "      <td>-1</td>\n",
       "      <td>0</td>\n",
       "      <td>0.0</td>\n",
       "      <td>0.0</td>\n",
       "      <td>0.0</td>\n",
       "      <td>0.0</td>\n",
       "      <td>0.0</td>\n",
       "      <td>0.0</td>\n",
       "      <td>...</td>\n",
       "      <td>0.0</td>\n",
       "      <td>0.0</td>\n",
       "      <td>0.0</td>\n",
       "      <td>0.0</td>\n",
       "      <td>0.0</td>\n",
       "      <td>0.0</td>\n",
       "      <td>0.0</td>\n",
       "      <td>0.0</td>\n",
       "      <td>0.0</td>\n",
       "      <td>0.0</td>\n",
       "    </tr>\n",
       "    <tr>\n",
       "      <th>2</th>\n",
       "      <td>0</td>\n",
       "      <td>0</td>\n",
       "      <td>0</td>\n",
       "      <td>0</td>\n",
       "      <td>0.0</td>\n",
       "      <td>0.0</td>\n",
       "      <td>0.0</td>\n",
       "      <td>0.0</td>\n",
       "      <td>0.0</td>\n",
       "      <td>0.0</td>\n",
       "      <td>...</td>\n",
       "      <td>0.0</td>\n",
       "      <td>0.0</td>\n",
       "      <td>0.0</td>\n",
       "      <td>0.0</td>\n",
       "      <td>0.0</td>\n",
       "      <td>0.0</td>\n",
       "      <td>0.0</td>\n",
       "      <td>0.0</td>\n",
       "      <td>0.0</td>\n",
       "      <td>0.0</td>\n",
       "    </tr>\n",
       "  </tbody>\n",
       "</table>\n",
       "<p>3 rows × 99 columns</p>\n",
       "</div>"
      ],
      "text/plain": [
       "   popular_author  is_weekend  popular_month  popular_channel  1334  500  \\\n",
       "0               0           0              0                0   0.0  0.0   \n",
       "1               0           0             -1                0   0.0  0.0   \n",
       "2               0           0              0                0   0.0  0.0   \n",
       "\n",
       "   1303  542  1844  736  ...  1005  1836  380  1204  217  569   18  1436  \\\n",
       "0   0.0  0.0   0.0  0.0  ...   0.0   0.0  0.0   0.0  0.0  0.0  0.0   0.0   \n",
       "1   0.0  0.0   0.0  0.0  ...   0.0   0.0  0.0   0.0  0.0  0.0  0.0   0.0   \n",
       "2   0.0  0.0   0.0  0.0  ...   0.0   0.0  0.0   0.0  0.0  0.0  0.0   0.0   \n",
       "\n",
       "   1298  1617  \n",
       "0   0.0   0.0  \n",
       "1   0.0   0.0  \n",
       "2   0.0   0.0  \n",
       "\n",
       "[3 rows x 99 columns]"
      ]
     },
     "metadata": {},
     "output_type": "display_data"
    }
   ],
   "source": [
    "display(df_train.head(3))\n",
    "display(df_test.head(3))"
   ]
  },
  {
   "cell_type": "code",
   "execution_count": 22,
   "id": "a6159c07",
   "metadata": {},
   "outputs": [],
   "source": [
    "# to numpy() array\n",
    "y_train = df_train['Popularity'].values\n",
    "X_train = df_train.drop(['Popularity'], axis=1).values"
   ]
  },
  {
   "cell_type": "code",
   "execution_count": 23,
   "id": "71436656",
   "metadata": {},
   "outputs": [],
   "source": [
    "X_test = df_test.values"
   ]
  },
  {
   "cell_type": "code",
   "execution_count": 24,
   "id": "b9720a40",
   "metadata": {
    "scrolled": true
   },
   "outputs": [
    {
     "name": "stdout",
     "output_type": "stream",
     "text": [
      "(27643, 99)\n",
      "(27643,)\n",
      "(11847, 99)\n"
     ]
    }
   ],
   "source": [
    "print(X_train.shape)\n",
    "print(y_train.shape)\n",
    "print(X_test.shape)"
   ]
  },
  {
   "cell_type": "code",
   "execution_count": 25,
   "id": "4715482e",
   "metadata": {},
   "outputs": [
    {
     "name": "stdout",
     "output_type": "stream",
     "text": [
      "[0 1 1 ... 0 0 1]\n"
     ]
    }
   ],
   "source": [
    "# preprocess \n",
    "\n",
    "#data label from (-1, 1) -> (0, 1)\n",
    "y_train[y_train == -1] = 0\n",
    "print(y_train)"
   ]
  },
  {
   "cell_type": "code",
   "execution_count": 76,
   "id": "6cd589de",
   "metadata": {},
   "outputs": [],
   "source": [
    "# model function\n",
    "ss = StandardScaler()\n",
    "# do we need to fit on X_test?\n",
    "# ref: https://stats.stackexchange.com/questions/202287/why-standardization-of-the-testing-set-has-to-be-performed-with-the-mean-and-sd\n",
    "X_full = np.concatenate((X_train, X_test), axis = 0)\n",
    "ss.fit(X_full)         # we fit for whole X, since the result of fitting on X_train is not so good\n",
    "X_train = ss.transform(X_train)\n",
    "\n",
    "\n",
    "X_test = ss.transform(X_test) "
   ]
  },
  {
   "cell_type": "code",
   "execution_count": 77,
   "id": "a677033d",
   "metadata": {},
   "outputs": [],
   "source": [
    "import xgboost as xgb\n",
    "from xgboost import XGBClassifier\n",
    "from scipy import stats"
   ]
  },
  {
   "cell_type": "code",
   "execution_count": 78,
   "id": "622020a4",
   "metadata": {},
   "outputs": [],
   "source": [
    "# honyu's xgboost model"
   ]
  },
  {
   "cell_type": "code",
   "execution_count": 79,
   "id": "ddfa08f6",
   "metadata": {},
   "outputs": [],
   "source": [
    "d_train = xgb.DMatrix(X_train, y_train)\n",
    "# d_valid = xgb.DMatrix(x_val, y_val)\n",
    "d_test = xgb.DMatrix(X_test)"
   ]
  },
  {
   "cell_type": "code",
   "execution_count": 80,
   "id": "29655939",
   "metadata": {},
   "outputs": [],
   "source": [
    "from sklearn.model_selection import GridSearchCV, StratifiedKFold, learning_curve\n",
    "from sklearn.model_selection import RandomizedSearchCV, KFold\n",
    "\n",
    "kfold = StratifiedKFold(n_splits = 5, random_state = 2021 ,shuffle=True)\n"
   ]
  },
  {
   "cell_type": "code",
   "execution_count": 81,
   "id": "62fb53d4",
   "metadata": {},
   "outputs": [],
   "source": [
    "# ref: https://xgboost.readthedocs.io/en/latest/parameter.html\n",
    "xgb_params = {'eta': 0.05, \n",
    "              'max_depth': 3, # the largest, the more overfitter. so far, 3 is the best\n",
    "              'subsample': 0.75,  \n",
    "              'colsample_bytree': 0.8,\n",
    "              'min_child_weight' : 1.5,\n",
    "              'objective': 'binary:logistic', \n",
    "              'eval_metric': 'auc', \n",
    "#               'lambda': 1.5,\n",
    "#               'alpha': 0.6,\n",
    "#               'n_estimators': 119,\n",
    "             }\n",
    "xgb_model = xgb.XGBClassifier(**xgb_params)\n",
    "xgb_params = xgb_model.get_xgb_params()"
   ]
  },
  {
   "cell_type": "code",
   "execution_count": 82,
   "id": "55671b97",
   "metadata": {},
   "outputs": [
    {
     "name": "stdout",
     "output_type": "stream",
     "text": [
      "[0]\ttrain-auc:0.54465+0.00400\ttest-auc:0.53581+0.00587\n",
      "[10]\ttrain-auc:0.57882+0.00548\ttest-auc:0.57275+0.01005\n",
      "[20]\ttrain-auc:0.58737+0.00265\ttest-auc:0.57855+0.01027\n",
      "[30]\ttrain-auc:0.59186+0.00158\ttest-auc:0.57966+0.00975\n",
      "[40]\ttrain-auc:0.59722+0.00267\ttest-auc:0.58191+0.00912\n",
      "[50]\ttrain-auc:0.60310+0.00191\ttest-auc:0.58516+0.00912\n",
      "[60]\ttrain-auc:0.60570+0.00207\ttest-auc:0.58611+0.00877\n",
      "[70]\ttrain-auc:0.60882+0.00227\ttest-auc:0.58747+0.00864\n",
      "[80]\ttrain-auc:0.61223+0.00210\ttest-auc:0.58837+0.00877\n",
      "[90]\ttrain-auc:0.61477+0.00162\ttest-auc:0.58931+0.00891\n",
      "[100]\ttrain-auc:0.61684+0.00206\ttest-auc:0.58980+0.00904\n",
      "[110]\ttrain-auc:0.61916+0.00250\ttest-auc:0.59065+0.00883\n",
      "[120]\ttrain-auc:0.62090+0.00229\ttest-auc:0.59166+0.00927\n",
      "[130]\ttrain-auc:0.62302+0.00230\ttest-auc:0.59292+0.00906\n",
      "[140]\ttrain-auc:0.62481+0.00208\ttest-auc:0.59349+0.00946\n",
      "[150]\ttrain-auc:0.62623+0.00205\ttest-auc:0.59394+0.00939\n",
      "[160]\ttrain-auc:0.62757+0.00211\ttest-auc:0.59407+0.00937\n",
      "[170]\ttrain-auc:0.62887+0.00214\ttest-auc:0.59430+0.00933\n",
      "[180]\ttrain-auc:0.63036+0.00204\ttest-auc:0.59441+0.00947\n",
      "[190]\ttrain-auc:0.63155+0.00199\ttest-auc:0.59476+0.00910\n",
      "[200]\ttrain-auc:0.63281+0.00202\ttest-auc:0.59518+0.00929\n",
      "[210]\ttrain-auc:0.63421+0.00190\ttest-auc:0.59497+0.00889\n",
      "[220]\ttrain-auc:0.63544+0.00169\ttest-auc:0.59528+0.00892\n",
      "[230]\ttrain-auc:0.63645+0.00157\ttest-auc:0.59558+0.00906\n",
      "[240]\ttrain-auc:0.63756+0.00158\ttest-auc:0.59616+0.00883\n",
      "[250]\ttrain-auc:0.63867+0.00160\ttest-auc:0.59652+0.00873\n",
      "[260]\ttrain-auc:0.63969+0.00159\ttest-auc:0.59670+0.00877\n",
      "[270]\ttrain-auc:0.64065+0.00160\ttest-auc:0.59708+0.00864\n",
      "[280]\ttrain-auc:0.64143+0.00150\ttest-auc:0.59755+0.00859\n",
      "[290]\ttrain-auc:0.64230+0.00145\ttest-auc:0.59757+0.00862\n",
      "[300]\ttrain-auc:0.64339+0.00150\ttest-auc:0.59805+0.00870\n",
      "[310]\ttrain-auc:0.64425+0.00156\ttest-auc:0.59858+0.00882\n",
      "[320]\ttrain-auc:0.64521+0.00141\ttest-auc:0.59841+0.00866\n",
      "[330]\ttrain-auc:0.64592+0.00158\ttest-auc:0.59843+0.00864\n",
      "[340]\ttrain-auc:0.64668+0.00174\ttest-auc:0.59849+0.00877\n",
      "[350]\ttrain-auc:0.64749+0.00182\ttest-auc:0.59854+0.00882\n",
      "[360]\ttrain-auc:0.64815+0.00187\ttest-auc:0.59880+0.00881\n",
      "[370]\ttrain-auc:0.64897+0.00188\ttest-auc:0.59889+0.00875\n",
      "[380]\ttrain-auc:0.64946+0.00178\ttest-auc:0.59897+0.00895\n",
      "[390]\ttrain-auc:0.65047+0.00170\ttest-auc:0.59881+0.00886\n",
      "[400]\ttrain-auc:0.65124+0.00165\ttest-auc:0.59859+0.00884\n",
      "[410]\ttrain-auc:0.65191+0.00162\ttest-auc:0.59860+0.00870\n",
      "[420]\ttrain-auc:0.65288+0.00169\ttest-auc:0.59872+0.00863\n",
      "[427]\ttrain-auc:0.65342+0.00175\ttest-auc:0.59864+0.00874\n"
     ]
    }
   ],
   "source": [
    "cvresult = xgb.cv(xgb_params, d_train, num_boost_round=1000, verbose_eval=10, nfold=5, metrics=['auc'], \\\n",
    "     early_stopping_rounds=50, stratified=True)\n"
   ]
  },
  {
   "cell_type": "code",
   "execution_count": 83,
   "id": "39f13b43",
   "metadata": {},
   "outputs": [
    {
     "data": {
      "text/plain": [
       "XGBClassifier(base_score=None, booster=None, colsample_bylevel=None,\n",
       "              colsample_bynode=None, colsample_bytree=0.8,\n",
       "              enable_categorical=False, eta=0.05, eval_metric='auc', gamma=None,\n",
       "              gpu_id=None, importance_type=None, interaction_constraints=None,\n",
       "              learning_rate=None, max_delta_step=None, max_depth=3,\n",
       "              min_child_weight=1.5, missing=nan, monotone_constraints=None,\n",
       "              n_estimators=379, n_jobs=None, num_parallel_tree=None,\n",
       "              predictor=None, random_state=None, reg_alpha=None,\n",
       "              reg_lambda=None, scale_pos_weight=None, subsample=0.75,\n",
       "              tree_method=None, validate_parameters=None, verbosity=None)"
      ]
     },
     "execution_count": 83,
     "metadata": {},
     "output_type": "execute_result"
    }
   ],
   "source": [
    "xgb_model.set_params(n_estimators=cvresult.shape[0])"
   ]
  },
  {
   "cell_type": "code",
   "execution_count": 84,
   "id": "6b77e380",
   "metadata": {},
   "outputs": [
    {
     "name": "stderr",
     "output_type": "stream",
     "text": [
      "/opt/homebrew/Caskroom/miniforge/base/envs/2021_DL/lib/python3.9/site-packages/xgboost/sklearn.py:1224: UserWarning: The use of label encoder in XGBClassifier is deprecated and will be removed in a future release. To remove this warning, do the following: 1) Pass option use_label_encoder=False when constructing XGBClassifier object; and 2) Encode your labels (y) as integers starting with 0, i.e. 0, 1, 2, ..., [num_class - 1].\n",
      "  warnings.warn(label_encoder_deprecation_msg, UserWarning)\n"
     ]
    },
    {
     "data": {
      "text/plain": [
       "XGBClassifier(base_score=0.5, booster='gbtree', colsample_bylevel=1,\n",
       "              colsample_bynode=1, colsample_bytree=0.8,\n",
       "              enable_categorical=False, eta=0.05, eval_metric='auc', gamma=0,\n",
       "              gpu_id=-1, importance_type=None, interaction_constraints='',\n",
       "              learning_rate=0.0500000007, max_delta_step=0, max_depth=3,\n",
       "              min_child_weight=1.5, missing=nan, monotone_constraints='()',\n",
       "              n_estimators=379, n_jobs=8, num_parallel_tree=1, predictor='auto',\n",
       "              random_state=0, reg_alpha=0, reg_lambda=1, scale_pos_weight=1,\n",
       "              subsample=0.75, tree_method='exact', validate_parameters=1,\n",
       "              verbosity=None)"
      ]
     },
     "execution_count": 84,
     "metadata": {},
     "output_type": "execute_result"
    }
   ],
   "source": [
    "xgb_model.fit(X_train, y_train, eval_metric='auc', verbose=True)"
   ]
  },
  {
   "cell_type": "code",
   "execution_count": 85,
   "id": "8f347310",
   "metadata": {},
   "outputs": [
    {
     "name": "stdout",
     "output_type": "stream",
     "text": [
      "[0.4663393  0.5548561  0.47420698 ... 0.47515517 0.5088756  0.46412808]\n",
      "(11847,)\n"
     ]
    }
   ],
   "source": [
    "\n",
    "y_pred = xgb_model.predict_proba(X_test)[:,1]\n",
    "print(y_pred)\n",
    "print(y_pred.shape)"
   ]
  },
  {
   "cell_type": "code",
   "execution_count": null,
   "id": "68c59012",
   "metadata": {},
   "outputs": [],
   "source": []
  },
  {
   "cell_type": "code",
   "execution_count": 86,
   "id": "619c845d",
   "metadata": {},
   "outputs": [],
   "source": [
    "df_submission = pd.read_csv('../chk_output/sample_submission.csv')\n",
    "df_submission['Popularity'] = y_pred\n"
   ]
  },
  {
   "cell_type": "code",
   "execution_count": 87,
   "id": "869d88ba",
   "metadata": {},
   "outputs": [],
   "source": [
    "# version1: feature= 100, feature hashing = 1024\n",
    "'''\n",
    "file_name = '../chk_output/xgb_v1_feature100_hash1024.csv'\n",
    "df_submission.to_csv(file_name, index=False)\n",
    "'''\n",
    "\n",
    "\n",
    "file_name = '../chk_output/xgb_v1_feature100_hash2048.csv'\n",
    "df_submission.to_csv(file_name, index=False)\n"
   ]
  },
  {
   "cell_type": "code",
   "execution_count": null,
   "id": "89260eb2",
   "metadata": {},
   "outputs": [],
   "source": []
  }
 ],
 "metadata": {
  "kernelspec": {
   "display_name": "Python 3.9 (tf_2021DL)",
   "language": "python",
   "name": "tensorflow"
  },
  "language_info": {
   "codemirror_mode": {
    "name": "ipython",
    "version": 3
   },
   "file_extension": ".py",
   "mimetype": "text/x-python",
   "name": "python",
   "nbconvert_exporter": "python",
   "pygments_lexer": "ipython3",
   "version": "3.9.7"
  }
 },
 "nbformat": 4,
 "nbformat_minor": 5
}
