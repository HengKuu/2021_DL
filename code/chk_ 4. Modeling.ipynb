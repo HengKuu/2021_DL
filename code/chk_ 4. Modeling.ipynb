{
 "cells": [
  {
   "cell_type": "code",
   "execution_count": null,
   "id": "987ada68",
   "metadata": {},
   "outputs": [],
   "source": [
    "# Import libraries\n",
    "import pandas as pd\n",
    "import numpy as np\n",
    "import matplotlib.pyplot as plt\n",
    "import seaborn as sns\n",
    "import pickle\n",
    "\n",
    "from sklearn.preprocessing import StandardScaler\n",
    "from sklearn.model_selection import train_test_split, GridSearchCV, cross_val_score\n",
    "from sklearn.pipeline import Pipeline\n",
    "from sklearn.linear_model import LogisticRegression\n",
    "from sklearn.metrics import (confusion_matrix, classification_report, plot_roc_curve, roc_auc_score, \n",
    "accuracy_score, precision_score, recall_score, f1_score, auc, precision_recall_curve, average_precision_score)\n",
    "from sklearn.ensemble import (RandomForestClassifier, ExtraTreesClassifier, GradientBoostingClassifier, \n",
    "                              AdaBoostClassifier)\n",
    "from sklearn.svm import SVC\n",
    "\n",
    "import xgboost as xgb\n",
    "from xgboost import XGBClassifier"
   ]
  },
  {
   "cell_type": "code",
   "execution_count": null,
   "id": "e2ec05db",
   "metadata": {},
   "outputs": [],
   "source": [
    "# load data\n",
    "df_train = pd.read_csv('../chk_output/train_processed.csv')\n",
    "df_test = pd.read_csv('../chk_output/test_processed.csv')"
   ]
  },
  {
   "cell_type": "code",
   "execution_count": null,
   "id": "87519716",
   "metadata": {},
   "outputs": [],
   "source": [
    "display(df_train.head(3))\n",
    "display(df_test.head(3))"
   ]
  },
  {
   "cell_type": "code",
   "execution_count": null,
   "id": "a6159c07",
   "metadata": {},
   "outputs": [],
   "source": [
    "y_train = df_train['Popularity']\n",
    "X_train = df_train.drop(['Popularity'], axis=1)"
   ]
  },
  {
   "cell_type": "code",
   "execution_count": 5,
   "id": "71436656",
   "metadata": {},
   "outputs": [],
   "source": [
    "X_test = df_test"
   ]
  },
  {
   "cell_type": "code",
   "execution_count": 6,
   "id": "b9720a40",
   "metadata": {},
   "outputs": [
    {
     "name": "stdout",
     "output_type": "stream",
     "text": [
      "(27643, 9)\n",
      "(27643,)\n"
     ]
    }
   ],
   "source": [
    "print(X_train.shape)\n",
    "print(y_train.shape)"
   ]
  },
  {
   "cell_type": "code",
   "execution_count": 7,
   "id": "2c9b3937",
   "metadata": {},
   "outputs": [],
   "source": [
    "# hold out testing set from training set\n",
    "X_train, X_test_holdout, y_train, y_test_holdout = train_test_split(X_train, y_train, test_size=0.3, random_state=42)"
   ]
  },
  {
   "cell_type": "code",
   "execution_count": 8,
   "id": "81e893ff",
   "metadata": {},
   "outputs": [
    {
     "ename": "NameError",
     "evalue": "name 'LogisticRegression' is not defined",
     "output_type": "error",
     "traceback": [
      "\u001b[0;31m---------------------------------------------------------------------------\u001b[0m",
      "\u001b[0;31mNameError\u001b[0m                                 Traceback (most recent call last)",
      "\u001b[0;32m/var/folders/m3/b72_x3ts4sb426tqfbn1ch_c0000gn/T/ipykernel_82925/1482899796.py\u001b[0m in \u001b[0;36m<module>\u001b[0;34m\u001b[0m\n\u001b[1;32m      1\u001b[0m \u001b[0;31m# define model\u001b[0m\u001b[0;34m\u001b[0m\u001b[0;34m\u001b[0m\u001b[0m\n\u001b[0;32m----> 2\u001b[0;31m models = {'lr': LogisticRegression(max_iter=5_000, random_state=42, solver='saga'),\n\u001b[0m\u001b[1;32m      3\u001b[0m           \u001b[0;34m'rf'\u001b[0m\u001b[0;34m:\u001b[0m \u001b[0mRandomForestClassifier\u001b[0m\u001b[0;34m(\u001b[0m\u001b[0mrandom_state\u001b[0m\u001b[0;34m=\u001b[0m\u001b[0;36m42\u001b[0m\u001b[0;34m)\u001b[0m\u001b[0;34m,\u001b[0m\u001b[0;34m\u001b[0m\u001b[0;34m\u001b[0m\u001b[0m\n\u001b[1;32m      4\u001b[0m           \u001b[0;34m'gb'\u001b[0m\u001b[0;34m:\u001b[0m \u001b[0mGradientBoostingClassifier\u001b[0m\u001b[0;34m(\u001b[0m\u001b[0mrandom_state\u001b[0m\u001b[0;34m=\u001b[0m\u001b[0;36m42\u001b[0m\u001b[0;34m)\u001b[0m\u001b[0;34m,\u001b[0m\u001b[0;34m\u001b[0m\u001b[0;34m\u001b[0m\u001b[0m\n\u001b[1;32m      5\u001b[0m           \u001b[0;34m'et'\u001b[0m\u001b[0;34m:\u001b[0m \u001b[0mExtraTreesClassifier\u001b[0m\u001b[0;34m(\u001b[0m\u001b[0mrandom_state\u001b[0m\u001b[0;34m=\u001b[0m\u001b[0;36m42\u001b[0m\u001b[0;34m)\u001b[0m\u001b[0;34m,\u001b[0m\u001b[0;34m\u001b[0m\u001b[0;34m\u001b[0m\u001b[0m\n",
      "\u001b[0;31mNameError\u001b[0m: name 'LogisticRegression' is not defined"
     ]
    }
   ],
   "source": [
    "# define model\n",
    "models = {'lr': LogisticRegression(max_iter=5_000, random_state=42, solver='saga'),\n",
    "          'rf': RandomForestClassifier(random_state=42),\n",
    "          'gb': GradientBoostingClassifier(random_state=42),\n",
    "          'et': ExtraTreesClassifier(random_state=42),\n",
    "          'ada': AdaBoostClassifier(random_state=42),\n",
    "          'svc': SVC(random_state=42, probability=True)\n",
    "          \n",
    "          \n",
    "\n",
    "          \n",
    "\n",
    "        }\n",
    "        \n",
    "        "
   ]
  },
  {
   "cell_type": "markdown",
   "id": "c26ec893",
   "metadata": {},
   "source": [
    "# model function set up"
   ]
  },
  {
   "cell_type": "code",
   "execution_count": 9,
   "id": "1be31587",
   "metadata": {},
   "outputs": [],
   "source": [
    "feature_names = X_train.columns"
   ]
  },
  {
   "cell_type": "code",
   "execution_count": 10,
   "id": "30af3b3a",
   "metadata": {},
   "outputs": [],
   "source": [
    "class CustomTransformer():\n",
    "    def __init__(self, func):\n",
    "        self.func = func\n",
    "\n",
    "    def transform(self, input_df, **transform_params):\n",
    "        return self.func(input_df)\n",
    "\n",
    "    def fit(self, X, y=None, **fit_params):\n",
    "        return self\n",
    "\n",
    "    # This function takes a dataframe as input and returns a scaled version\n",
    "def scale_df(input_df):\n",
    "    ss = StandardScaler()\n",
    "    feature_names = input_df.columns\n",
    "    input_df = ss.fit_transform(input_df)\n",
    "    input_df = pd.DataFrame(input_df, columns=feature_names)\n",
    "    return input_df"
   ]
  },
  {
   "cell_type": "code",
   "execution_count": 11,
   "id": "5bcbb668",
   "metadata": {},
   "outputs": [],
   "source": [
    "# Instantiate lists to store results\n",
    "init_list = []\n",
    "gs_list = []\n",
    "\n",
    "# Function to run model -- input scaler and model\n",
    "def run_model(mod, mod_params={}, grid_search=False):\n",
    "    \n",
    "    # Initial dictionary to hold model results\n",
    "    results = {}\n",
    "    \n",
    "    pipe = Pipeline([\n",
    "            ('ss', CustomTransformer(scale_df)), # this will first standarize\n",
    "            (mod, models[mod]) # choose which model\n",
    "            ])\n",
    "    \n",
    "    if grid_search:\n",
    "        # Instantiate list to store gridsearch results\n",
    "        gs = GridSearchCV(pipe, param_grid=mod_params, cv=3, verbose=1, scoring='roc_auc', n_jobs=-1)\n",
    "        gs.fit(X_train, y_train)\n",
    "        pipe = gs.best_estimator_\n",
    "        \n",
    "    else:\n",
    "        pipe.fit(X_train, y_train)\n",
    "    \n",
    "    # K-fold cv\n",
    "    scores = cross_val_score(estimator=pipe, X=X_train, y=y_train, cv=3, scoring='roc_auc')\n",
    "    print('all validation cv scores:\\n', scores)\n",
    "    print('means: %.3f (+/- %.3f)' % (scores.mean(), scores.std()))\n",
    "    \n",
    "    # performance reporting\n",
    "    y_pred_holdout = pipe.predict(X_test_holdout) \n",
    "    #print(y_pred_holdout) # 測試holdout test set要用predict_proba嗎？ yes...但我目前沒用\n",
    "    print(\"Test_holdout accurarcy %f\" % roc_auc_score(y_test_holdout, y_pred_holdout))\n",
    "    \n",
    "    '''\n",
    "    # Retrieve metrics\n",
    "    predictions = pipe.predict(X_test)\n",
    "    tn, fp, fn, tp = confusion_matrix(y_test, predictions).ravel()\n",
    "    y_test_pred_prob = pipe.predict_proba(X_test)[:,1]\n",
    "    y_train_pred_prob = pipe.predict_proba(X_train)[:,1]\n",
    "    \n",
    "    results['model'] = mod\n",
    "    results['train_auc'] = roc_auc_score(y_train, y_train_pred_prob)\n",
    "    results['test_auc'] = roc_auc_score(y_test, y_test_pred_prob)\n",
    "    results['precision'] = precision_score(y_test, predictions)\n",
    "    results['specificity'] = tn / (tn + fp)\n",
    "    results['recall'] = recall_score(y_test, predictions)\n",
    "    results['f_score'] = f1_score(y_test, predictions)\n",
    "    \n",
    "    if grid_search:\n",
    "        gs_list.append(results)\n",
    "        print('### BEST PARAMS ###')\n",
    "        display(pipe[1])\n",
    "        \n",
    "    else:\n",
    "        init_list.append(results)\n",
    "    \n",
    "    print('### METRICS ###')\n",
    "    display(results)\n",
    "    \n",
    "    print(f\"True Negatives: {tn}\")\n",
    "    print(f\"False Positives: {fp}\")\n",
    "    print(f\"False Negatives: {fn}\")\n",
    "    print(f\"True Positives: {tp}\")\n",
    "    '''\n",
    "    \n",
    "    return pipe"
   ]
  },
  {
   "cell_type": "code",
   "execution_count": 12,
   "id": "8ea5a2de",
   "metadata": {},
   "outputs": [
    {
     "name": "stdout",
     "output_type": "stream",
     "text": [
      "all validation cv scores:\n",
      " [0.58226739 0.5893681  0.58188528]\n",
      "means: 0.585 (+/- 0.003)\n",
      "Test_holdout accurarcy 0.557806\n",
      "Pipeline(steps=[('ss', <__main__.CustomTransformer object at 0x137d88be0>),\n",
      "                ('lr',\n",
      "                 LogisticRegression(max_iter=5000, random_state=42,\n",
      "                                    solver='saga'))])\n"
     ]
    }
   ],
   "source": [
    "lr = run_model('lr')\n",
    "print(lr)"
   ]
  },
  {
   "cell_type": "code",
   "execution_count": 13,
   "id": "d493233f",
   "metadata": {},
   "outputs": [
    {
     "name": "stdout",
     "output_type": "stream",
     "text": [
      "all validation cv scores:\n",
      " [0.5522019  0.56375488 0.55819564]\n",
      "means: 0.558 (+/- 0.005)\n",
      "Test_holdout accurarcy 0.549134\n",
      "Pipeline(steps=[('ss', <__main__.CustomTransformer object at 0x137d968e0>),\n",
      "                ('rf', RandomForestClassifier(random_state=42))])\n"
     ]
    }
   ],
   "source": [
    "rf = run_model('rf')\n",
    "print(rf)"
   ]
  },
  {
   "cell_type": "code",
   "execution_count": 14,
   "id": "bccd94aa",
   "metadata": {
    "scrolled": true
   },
   "outputs": [
    {
     "name": "stdout",
     "output_type": "stream",
     "text": [
      "all validation cv scores:\n",
      " [0.57586222 0.58532273 0.58083028]\n",
      "means: 0.581 (+/- 0.004)\n",
      "Test_holdout accurarcy 0.554844\n",
      "Pipeline(steps=[('ss', <__main__.CustomTransformer object at 0x137dd6e20>),\n",
      "                ('gb', GradientBoostingClassifier(random_state=42))])\n"
     ]
    }
   ],
   "source": [
    "gb = run_model('gb')\n",
    "print(gb)"
   ]
  },
  {
   "cell_type": "code",
   "execution_count": 15,
   "id": "f8b654eb",
   "metadata": {},
   "outputs": [
    {
     "name": "stdout",
     "output_type": "stream",
     "text": [
      "all validation cv scores:\n",
      " [0.5463235  0.56365405 0.55441392]\n",
      "means: 0.555 (+/- 0.007)\n",
      "Test_holdout accurarcy 0.545866\n",
      "Pipeline(steps=[('ss', <__main__.CustomTransformer object at 0x137dd7400>),\n",
      "                ('et', ExtraTreesClassifier(random_state=42))])\n"
     ]
    }
   ],
   "source": [
    "et = run_model('et')\n",
    "print(et)"
   ]
  },
  {
   "cell_type": "code",
   "execution_count": 16,
   "id": "579f565e",
   "metadata": {},
   "outputs": [
    {
     "name": "stdout",
     "output_type": "stream",
     "text": [
      "all validation cv scores:\n",
      " [0.57923172 0.582351   0.58212313]\n",
      "means: 0.581 (+/- 0.001)\n",
      "Test_holdout accurarcy 0.556448\n",
      "Pipeline(steps=[('ss', <__main__.CustomTransformer object at 0x137dd6760>),\n",
      "                ('ada', AdaBoostClassifier(random_state=42))])\n"
     ]
    },
    {
     "name": "stderr",
     "output_type": "stream",
     "text": [
      "/opt/homebrew/Caskroom/miniforge/base/envs/tensorflow/lib/python3.9/site-packages/sklearn/base.py:441: UserWarning: X does not have valid feature names, but AdaBoostClassifier was fitted with feature names\n",
      "  warnings.warn(\n"
     ]
    }
   ],
   "source": [
    "ada = run_model('ada')\n",
    "print(ada)"
   ]
  },
  {
   "cell_type": "code",
   "execution_count": 17,
   "id": "7489eaf9",
   "metadata": {},
   "outputs": [],
   "source": [
    "#svc = run_model('svc')\n",
    "#print(svc)"
   ]
  },
  {
   "cell_type": "code",
   "execution_count": 18,
   "id": "ff8c2082",
   "metadata": {
    "scrolled": true
   },
   "outputs": [],
   "source": [
    "#xgb = run_model('xgb')\n",
    "#print(xgb)"
   ]
  },
  {
   "cell_type": "code",
   "execution_count": null,
   "id": "5ef4a4a6",
   "metadata": {},
   "outputs": [],
   "source": []
  },
  {
   "cell_type": "code",
   "execution_count": null,
   "id": "53bdad0d",
   "metadata": {},
   "outputs": [],
   "source": []
  },
  {
   "cell_type": "code",
   "execution_count": 19,
   "id": "293461bb",
   "metadata": {},
   "outputs": [],
   "source": [
    "# houyu's predict model"
   ]
  },
  {
   "cell_type": "code",
   "execution_count": 20,
   "id": "ec374f75",
   "metadata": {},
   "outputs": [],
   "source": [
    "import xgboost as xgb\n",
    "from xgboost import XGBClassifier\n",
    "from scipy import stats"
   ]
  },
  {
   "cell_type": "code",
   "execution_count": null,
   "id": "b56760f7",
   "metadata": {},
   "outputs": [],
   "source": [
    "d_train = xgb.DMatrix(X_train, y_train)\n",
    "# d_valid = xgb.DMatrix(x_val, y_val)\n",
    "d_test = xgb.DMatrix(X_test)"
   ]
  },
  {
   "cell_type": "code",
   "execution_count": null,
   "id": "1b19ff32",
   "metadata": {},
   "outputs": [],
   "source": [
    "from sklearn.model_selection import GridSearchCV, StratifiedKFold, learning_curve\n",
    "from sklearn.model_selection import RandomizedSearchCV, KFold\n",
    "\n",
    "kfold = StratifiedKFold(n_splits = 5, random_state = 2021 ,shuffle=True)\n"
   ]
  },
  {
   "cell_type": "code",
   "execution_count": null,
   "id": "2cc3f4b3",
   "metadata": {},
   "outputs": [],
   "source": [
    "xgb_params = {'eta': 0.05, \n",
    "              'max_depth': 5, \n",
    "              'subsample': 0.8, \n",
    "              'colsample_bytree': 0.8,\n",
    "              'min_child_weight' : 1.5,\n",
    "              'objective': 'binary:logistic', \n",
    "              'eval_metric': 'auc', \n",
    "#               'lambda': 1.5,\n",
    "#               'alpha': 0.6,\n",
    "#               'n_estimators': 119,\n",
    "             }\n",
    "xgb_model = xgb.XGBClassifier(**xgb_params)\n",
    "xgb_params = xgb_model.get_xgb_params()"
   ]
  },
  {
   "cell_type": "code",
   "execution_count": null,
   "id": "e3f8ebf0",
   "metadata": {},
   "outputs": [],
   "source": [
    "cvresult = xgb.cv(xgb_params, d_train, num_boost_round=10, verbose_eval=10, nfold=5, metrics=['auc'], \\\n",
    "     early_stopping_rounds=50, stratified=True)\n"
   ]
  },
  {
   "cell_type": "code",
   "execution_count": null,
   "id": "53a263b7",
   "metadata": {},
   "outputs": [],
   "source": [
    "xgb_model.set_params(n_estimators=cvresult.shape[0])"
   ]
  },
  {
   "cell_type": "code",
   "execution_count": null,
   "id": "1c0b3321",
   "metadata": {},
   "outputs": [],
   "source": [
    "xgb_model.fit(X_train, y_train, eval_metric='auc', verbose=True)"
   ]
  },
  {
   "cell_type": "code",
   "execution_count": null,
   "id": "82252b19",
   "metadata": {},
   "outputs": [],
   "source": [
    "file_name = '../chk_output/xgb_topic_hash.csv'\n",
    "y_pred = xgb_model.predict_proba(X_test)[:,1]\n",
    "df_submission = pd.read_csv('./sample_submission.csv')\n",
    "df_submission['Popularity'] = y_pred\n",
    "df_submission.to_csv(file_name, index=False)"
   ]
  },
  {
   "cell_type": "code",
   "execution_count": null,
   "id": "926e62e2",
   "metadata": {},
   "outputs": [],
   "source": []
  }
 ],
 "metadata": {
  "kernelspec": {
   "display_name": "Python 3.9 (tensorflow)",
   "language": "python",
   "name": "tensorflow"
  },
  "language_info": {
   "codemirror_mode": {
    "name": "ipython",
    "version": 3
   },
   "file_extension": ".py",
   "mimetype": "text/x-python",
   "name": "python",
   "nbconvert_exporter": "python",
   "pygments_lexer": "ipython3",
   "version": "3.9.7"
  }
 },
 "nbformat": 4,
 "nbformat_minor": 5
}
