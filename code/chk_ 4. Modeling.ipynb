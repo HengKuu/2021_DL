{
 "cells": [
  {
   "cell_type": "code",
   "execution_count": 67,
   "id": "987ada68",
   "metadata": {},
   "outputs": [],
   "source": [
    "# Import libraries\n",
    "import pandas as pd\n",
    "import numpy as np\n",
    "import matplotlib.pyplot as plt\n",
    "import seaborn as sns\n",
    "import pickle\n",
    "\n",
    "from sklearn.preprocessing import StandardScaler\n",
    "from sklearn.model_selection import train_test_split, GridSearchCV, cross_val_score\n",
    "from sklearn.pipeline import Pipeline\n",
    "from sklearn.linear_model import LogisticRegression\n",
    "from sklearn.metrics import (confusion_matrix, classification_report, plot_roc_curve, roc_auc_score, \n",
    "accuracy_score, precision_score, recall_score, f1_score, auc, precision_recall_curve, average_precision_score)\n",
    "from sklearn.ensemble import (RandomForestClassifier, ExtraTreesClassifier, GradientBoostingClassifier, \n",
    "                              AdaBoostClassifier)\n",
    "from sklearn.svm import SVC\n",
    "\n",
    "import xgboost as xgb\n",
    "from xgboost import XGBClassifier"
   ]
  },
  {
   "cell_type": "code",
   "execution_count": 68,
   "id": "e2ec05db",
   "metadata": {},
   "outputs": [],
   "source": [
    "# load data\n",
    "df_train = pd.read_csv('../chk_output/train_processed.csv')\n",
    "df_test = pd.read_csv('../chk_output/test_processed.csv')"
   ]
  },
  {
   "cell_type": "code",
   "execution_count": 69,
   "id": "87519716",
   "metadata": {},
   "outputs": [
    {
     "data": {
      "text/html": [
       "<div>\n",
       "<style scoped>\n",
       "    .dataframe tbody tr th:only-of-type {\n",
       "        vertical-align: middle;\n",
       "    }\n",
       "\n",
       "    .dataframe tbody tr th {\n",
       "        vertical-align: top;\n",
       "    }\n",
       "\n",
       "    .dataframe thead th {\n",
       "        text-align: right;\n",
       "    }\n",
       "</style>\n",
       "<table border=\"1\" class=\"dataframe\">\n",
       "  <thead>\n",
       "    <tr style=\"text-align: right;\">\n",
       "      <th></th>\n",
       "      <th>Popularity</th>\n",
       "      <th>popular_author</th>\n",
       "      <th>is_weekend</th>\n",
       "      <th>popular_month</th>\n",
       "      <th>popular_channel</th>\n",
       "      <th>310</th>\n",
       "      <th>500</th>\n",
       "      <th>820</th>\n",
       "      <th>736</th>\n",
       "      <th>279</th>\n",
       "      <th>...</th>\n",
       "      <th>407</th>\n",
       "      <th>740</th>\n",
       "      <th>369</th>\n",
       "      <th>499</th>\n",
       "      <th>901</th>\n",
       "      <th>230</th>\n",
       "      <th>750</th>\n",
       "      <th>39</th>\n",
       "      <th>662</th>\n",
       "      <th>126</th>\n",
       "    </tr>\n",
       "  </thead>\n",
       "  <tbody>\n",
       "    <tr>\n",
       "      <th>0</th>\n",
       "      <td>-1</td>\n",
       "      <td>0</td>\n",
       "      <td>0</td>\n",
       "      <td>0</td>\n",
       "      <td>-2</td>\n",
       "      <td>0.0</td>\n",
       "      <td>0.0</td>\n",
       "      <td>0.0</td>\n",
       "      <td>0.204124</td>\n",
       "      <td>0.0</td>\n",
       "      <td>...</td>\n",
       "      <td>0.0</td>\n",
       "      <td>0.0</td>\n",
       "      <td>0.0</td>\n",
       "      <td>0.0</td>\n",
       "      <td>0.0</td>\n",
       "      <td>0.0</td>\n",
       "      <td>0.0</td>\n",
       "      <td>0.0</td>\n",
       "      <td>0.0</td>\n",
       "      <td>0.0</td>\n",
       "    </tr>\n",
       "    <tr>\n",
       "      <th>1</th>\n",
       "      <td>1</td>\n",
       "      <td>0</td>\n",
       "      <td>0</td>\n",
       "      <td>1</td>\n",
       "      <td>2</td>\n",
       "      <td>0.0</td>\n",
       "      <td>0.0</td>\n",
       "      <td>0.0</td>\n",
       "      <td>0.158114</td>\n",
       "      <td>0.0</td>\n",
       "      <td>...</td>\n",
       "      <td>0.0</td>\n",
       "      <td>0.0</td>\n",
       "      <td>0.0</td>\n",
       "      <td>0.0</td>\n",
       "      <td>0.0</td>\n",
       "      <td>0.0</td>\n",
       "      <td>0.0</td>\n",
       "      <td>0.0</td>\n",
       "      <td>0.0</td>\n",
       "      <td>0.0</td>\n",
       "    </tr>\n",
       "    <tr>\n",
       "      <th>2</th>\n",
       "      <td>1</td>\n",
       "      <td>0</td>\n",
       "      <td>0</td>\n",
       "      <td>0</td>\n",
       "      <td>-2</td>\n",
       "      <td>0.0</td>\n",
       "      <td>0.0</td>\n",
       "      <td>0.0</td>\n",
       "      <td>0.000000</td>\n",
       "      <td>0.0</td>\n",
       "      <td>...</td>\n",
       "      <td>0.0</td>\n",
       "      <td>0.0</td>\n",
       "      <td>0.0</td>\n",
       "      <td>0.0</td>\n",
       "      <td>0.0</td>\n",
       "      <td>0.0</td>\n",
       "      <td>0.0</td>\n",
       "      <td>0.0</td>\n",
       "      <td>0.0</td>\n",
       "      <td>0.0</td>\n",
       "    </tr>\n",
       "  </tbody>\n",
       "</table>\n",
       "<p>3 rows × 100 columns</p>\n",
       "</div>"
      ],
      "text/plain": [
       "   Popularity  popular_author  is_weekend  popular_month  popular_channel  \\\n",
       "0          -1               0           0              0               -2   \n",
       "1           1               0           0              1                2   \n",
       "2           1               0           0              0               -2   \n",
       "\n",
       "   310  500  820       736  279  ...  407  740  369  499  901  230  750   39  \\\n",
       "0  0.0  0.0  0.0  0.204124  0.0  ...  0.0  0.0  0.0  0.0  0.0  0.0  0.0  0.0   \n",
       "1  0.0  0.0  0.0  0.158114  0.0  ...  0.0  0.0  0.0  0.0  0.0  0.0  0.0  0.0   \n",
       "2  0.0  0.0  0.0  0.000000  0.0  ...  0.0  0.0  0.0  0.0  0.0  0.0  0.0  0.0   \n",
       "\n",
       "   662  126  \n",
       "0  0.0  0.0  \n",
       "1  0.0  0.0  \n",
       "2  0.0  0.0  \n",
       "\n",
       "[3 rows x 100 columns]"
      ]
     },
     "metadata": {},
     "output_type": "display_data"
    },
    {
     "data": {
      "text/html": [
       "<div>\n",
       "<style scoped>\n",
       "    .dataframe tbody tr th:only-of-type {\n",
       "        vertical-align: middle;\n",
       "    }\n",
       "\n",
       "    .dataframe tbody tr th {\n",
       "        vertical-align: top;\n",
       "    }\n",
       "\n",
       "    .dataframe thead th {\n",
       "        text-align: right;\n",
       "    }\n",
       "</style>\n",
       "<table border=\"1\" class=\"dataframe\">\n",
       "  <thead>\n",
       "    <tr style=\"text-align: right;\">\n",
       "      <th></th>\n",
       "      <th>popular_author</th>\n",
       "      <th>is_weekend</th>\n",
       "      <th>popular_month</th>\n",
       "      <th>popular_channel</th>\n",
       "      <th>310</th>\n",
       "      <th>500</th>\n",
       "      <th>820</th>\n",
       "      <th>736</th>\n",
       "      <th>279</th>\n",
       "      <th>507</th>\n",
       "      <th>...</th>\n",
       "      <th>407</th>\n",
       "      <th>740</th>\n",
       "      <th>369</th>\n",
       "      <th>499</th>\n",
       "      <th>901</th>\n",
       "      <th>230</th>\n",
       "      <th>750</th>\n",
       "      <th>39</th>\n",
       "      <th>662</th>\n",
       "      <th>126</th>\n",
       "    </tr>\n",
       "  </thead>\n",
       "  <tbody>\n",
       "    <tr>\n",
       "      <th>0</th>\n",
       "      <td>0</td>\n",
       "      <td>0</td>\n",
       "      <td>0</td>\n",
       "      <td>0</td>\n",
       "      <td>0.0</td>\n",
       "      <td>0.0</td>\n",
       "      <td>0.0</td>\n",
       "      <td>0.0</td>\n",
       "      <td>0.0</td>\n",
       "      <td>0.0</td>\n",
       "      <td>...</td>\n",
       "      <td>0.0</td>\n",
       "      <td>0.0</td>\n",
       "      <td>0.0</td>\n",
       "      <td>0.0</td>\n",
       "      <td>0.0</td>\n",
       "      <td>0.0</td>\n",
       "      <td>0.0</td>\n",
       "      <td>0.0</td>\n",
       "      <td>0.0</td>\n",
       "      <td>0.0</td>\n",
       "    </tr>\n",
       "    <tr>\n",
       "      <th>1</th>\n",
       "      <td>0</td>\n",
       "      <td>0</td>\n",
       "      <td>-1</td>\n",
       "      <td>0</td>\n",
       "      <td>0.0</td>\n",
       "      <td>0.0</td>\n",
       "      <td>0.0</td>\n",
       "      <td>0.0</td>\n",
       "      <td>0.0</td>\n",
       "      <td>0.0</td>\n",
       "      <td>...</td>\n",
       "      <td>0.0</td>\n",
       "      <td>0.0</td>\n",
       "      <td>0.0</td>\n",
       "      <td>0.0</td>\n",
       "      <td>0.0</td>\n",
       "      <td>0.0</td>\n",
       "      <td>0.0</td>\n",
       "      <td>0.0</td>\n",
       "      <td>0.0</td>\n",
       "      <td>0.0</td>\n",
       "    </tr>\n",
       "    <tr>\n",
       "      <th>2</th>\n",
       "      <td>0</td>\n",
       "      <td>0</td>\n",
       "      <td>0</td>\n",
       "      <td>0</td>\n",
       "      <td>0.0</td>\n",
       "      <td>0.0</td>\n",
       "      <td>0.0</td>\n",
       "      <td>0.0</td>\n",
       "      <td>0.0</td>\n",
       "      <td>0.0</td>\n",
       "      <td>...</td>\n",
       "      <td>0.0</td>\n",
       "      <td>0.0</td>\n",
       "      <td>0.0</td>\n",
       "      <td>0.0</td>\n",
       "      <td>0.0</td>\n",
       "      <td>0.0</td>\n",
       "      <td>0.0</td>\n",
       "      <td>0.0</td>\n",
       "      <td>0.0</td>\n",
       "      <td>0.0</td>\n",
       "    </tr>\n",
       "  </tbody>\n",
       "</table>\n",
       "<p>3 rows × 99 columns</p>\n",
       "</div>"
      ],
      "text/plain": [
       "   popular_author  is_weekend  popular_month  popular_channel  310  500  820  \\\n",
       "0               0           0              0                0  0.0  0.0  0.0   \n",
       "1               0           0             -1                0  0.0  0.0  0.0   \n",
       "2               0           0              0                0  0.0  0.0  0.0   \n",
       "\n",
       "   736  279  507  ...  407  740  369  499  901  230  750   39  662  126  \n",
       "0  0.0  0.0  0.0  ...  0.0  0.0  0.0  0.0  0.0  0.0  0.0  0.0  0.0  0.0  \n",
       "1  0.0  0.0  0.0  ...  0.0  0.0  0.0  0.0  0.0  0.0  0.0  0.0  0.0  0.0  \n",
       "2  0.0  0.0  0.0  ...  0.0  0.0  0.0  0.0  0.0  0.0  0.0  0.0  0.0  0.0  \n",
       "\n",
       "[3 rows x 99 columns]"
      ]
     },
     "metadata": {},
     "output_type": "display_data"
    }
   ],
   "source": [
    "display(df_train.head(3))\n",
    "display(df_test.head(3))"
   ]
  },
  {
   "cell_type": "code",
   "execution_count": 70,
   "id": "a6159c07",
   "metadata": {},
   "outputs": [],
   "source": [
    "# to numpy() array\n",
    "y_train = df_train['Popularity'].values\n",
    "X_train = df_train.drop(['Popularity'], axis=1).values"
   ]
  },
  {
   "cell_type": "code",
   "execution_count": 71,
   "id": "71436656",
   "metadata": {},
   "outputs": [],
   "source": [
    "X_test = df_test.values"
   ]
  },
  {
   "cell_type": "code",
   "execution_count": 72,
   "id": "b9720a40",
   "metadata": {
    "scrolled": true
   },
   "outputs": [
    {
     "name": "stdout",
     "output_type": "stream",
     "text": [
      "(27643, 99)\n",
      "(27643,)\n",
      "(11847, 99)\n"
     ]
    }
   ],
   "source": [
    "print(X_train.shape)\n",
    "print(y_train.shape)\n",
    "print(X_test.shape)"
   ]
  },
  {
   "cell_type": "code",
   "execution_count": 73,
   "id": "4715482e",
   "metadata": {},
   "outputs": [
    {
     "name": "stdout",
     "output_type": "stream",
     "text": [
      "[0 1 1 ... 0 0 1]\n"
     ]
    }
   ],
   "source": [
    "# preprocess \n",
    "\n",
    "#data label from (-1, 1) -> (0, 1)\n",
    "y_train[y_train == -1] = 0\n",
    "print(y_train)"
   ]
  },
  {
   "cell_type": "code",
   "execution_count": 74,
   "id": "6cd589de",
   "metadata": {},
   "outputs": [],
   "source": [
    "# model function\n",
    "ss = StandardScaler()\n",
    "X_train = ss.fit_transform(X_train)\n",
    "X_test = ss.fit_transform(X_test)"
   ]
  },
  {
   "cell_type": "code",
   "execution_count": 75,
   "id": "a677033d",
   "metadata": {},
   "outputs": [],
   "source": [
    "import xgboost as xgb\n",
    "from xgboost import XGBClassifier\n",
    "from scipy import stats"
   ]
  },
  {
   "cell_type": "code",
   "execution_count": 76,
   "id": "622020a4",
   "metadata": {},
   "outputs": [],
   "source": [
    "# honyu's xgboost model"
   ]
  },
  {
   "cell_type": "code",
   "execution_count": 77,
   "id": "ddfa08f6",
   "metadata": {},
   "outputs": [],
   "source": [
    "d_train = xgb.DMatrix(X_train, y_train)\n",
    "# d_valid = xgb.DMatrix(x_val, y_val)\n",
    "d_test = xgb.DMatrix(X_test)"
   ]
  },
  {
   "cell_type": "code",
   "execution_count": 78,
   "id": "29655939",
   "metadata": {},
   "outputs": [],
   "source": [
    "from sklearn.model_selection import GridSearchCV, StratifiedKFold, learning_curve\n",
    "from sklearn.model_selection import RandomizedSearchCV, KFold\n",
    "\n",
    "kfold = StratifiedKFold(n_splits = 5, random_state = 2021 ,shuffle=True)\n"
   ]
  },
  {
   "cell_type": "code",
   "execution_count": 79,
   "id": "62fb53d4",
   "metadata": {},
   "outputs": [],
   "source": [
    "xgb_params = {'eta': 0.05, \n",
    "              'max_depth': 5, \n",
    "              'subsample': 0.8, \n",
    "              'colsample_bytree': 0.8,\n",
    "              'min_child_weight' : 1.5,\n",
    "              'objective': 'binary:logistic', \n",
    "              'eval_metric': 'auc', \n",
    "#               'lambda': 1.5,\n",
    "#               'alpha': 0.6,\n",
    "#               'n_estimators': 119,\n",
    "             }\n",
    "xgb_model = xgb.XGBClassifier(**xgb_params)\n",
    "xgb_params = xgb_model.get_xgb_params()"
   ]
  },
  {
   "cell_type": "code",
   "execution_count": 81,
   "id": "55671b97",
   "metadata": {},
   "outputs": [
    {
     "name": "stdout",
     "output_type": "stream",
     "text": [
      "[0]\ttrain-auc:0.55842+0.00417\ttest-auc:0.53960+0.00408\n",
      "[10]\ttrain-auc:0.60426+0.00264\ttest-auc:0.58036+0.00667\n",
      "[20]\ttrain-auc:0.61156+0.00279\ttest-auc:0.58266+0.00797\n",
      "[30]\ttrain-auc:0.61687+0.00242\ttest-auc:0.58388+0.00757\n",
      "[40]\ttrain-auc:0.62393+0.00110\ttest-auc:0.58493+0.00750\n",
      "[50]\ttrain-auc:0.62904+0.00164\ttest-auc:0.58607+0.00710\n",
      "[60]\ttrain-auc:0.63376+0.00122\ttest-auc:0.58688+0.00766\n",
      "[70]\ttrain-auc:0.63842+0.00082\ttest-auc:0.58873+0.00812\n",
      "[80]\ttrain-auc:0.64282+0.00044\ttest-auc:0.58909+0.00834\n",
      "[90]\ttrain-auc:0.64637+0.00055\ttest-auc:0.58912+0.00748\n",
      "[100]\ttrain-auc:0.64993+0.00069\ttest-auc:0.58967+0.00764\n",
      "[110]\ttrain-auc:0.65331+0.00052\ttest-auc:0.59032+0.00704\n",
      "[120]\ttrain-auc:0.65651+0.00071\ttest-auc:0.59035+0.00742\n",
      "[130]\ttrain-auc:0.65911+0.00062\ttest-auc:0.59108+0.00740\n",
      "[140]\ttrain-auc:0.66174+0.00036\ttest-auc:0.59132+0.00756\n",
      "[150]\ttrain-auc:0.66454+0.00079\ttest-auc:0.59193+0.00754\n",
      "[160]\ttrain-auc:0.66661+0.00111\ttest-auc:0.59212+0.00755\n",
      "[170]\ttrain-auc:0.66851+0.00133\ttest-auc:0.59223+0.00780\n",
      "[180]\ttrain-auc:0.67052+0.00150\ttest-auc:0.59255+0.00732\n",
      "[190]\ttrain-auc:0.67252+0.00130\ttest-auc:0.59281+0.00737\n",
      "[200]\ttrain-auc:0.67440+0.00143\ttest-auc:0.59312+0.00735\n",
      "[210]\ttrain-auc:0.67640+0.00149\ttest-auc:0.59337+0.00696\n",
      "[220]\ttrain-auc:0.67811+0.00136\ttest-auc:0.59379+0.00663\n",
      "[230]\ttrain-auc:0.67989+0.00162\ttest-auc:0.59383+0.00638\n",
      "[240]\ttrain-auc:0.68151+0.00193\ttest-auc:0.59408+0.00626\n",
      "[250]\ttrain-auc:0.68299+0.00176\ttest-auc:0.59435+0.00611\n",
      "[260]\ttrain-auc:0.68454+0.00193\ttest-auc:0.59426+0.00599\n",
      "[270]\ttrain-auc:0.68580+0.00217\ttest-auc:0.59433+0.00592\n",
      "[280]\ttrain-auc:0.68726+0.00212\ttest-auc:0.59425+0.00607\n",
      "[290]\ttrain-auc:0.68840+0.00215\ttest-auc:0.59398+0.00602\n",
      "[300]\ttrain-auc:0.68998+0.00207\ttest-auc:0.59415+0.00589\n",
      "[309]\ttrain-auc:0.69131+0.00220\ttest-auc:0.59414+0.00605\n"
     ]
    }
   ],
   "source": [
    "cvresult = xgb.cv(xgb_params, d_train, num_boost_round=1000, verbose_eval=10, nfold=5, metrics=['auc'], \\\n",
    "     early_stopping_rounds=50, stratified=True)\n"
   ]
  },
  {
   "cell_type": "code",
   "execution_count": 82,
   "id": "39f13b43",
   "metadata": {},
   "outputs": [
    {
     "data": {
      "text/plain": [
       "XGBClassifier(base_score=None, booster=None, colsample_bylevel=None,\n",
       "              colsample_bynode=None, colsample_bytree=0.8,\n",
       "              enable_categorical=False, eta=0.05, eval_metric='auc', gamma=None,\n",
       "              gpu_id=None, importance_type=None, interaction_constraints=None,\n",
       "              learning_rate=None, max_delta_step=None, max_depth=5,\n",
       "              min_child_weight=1.5, missing=nan, monotone_constraints=None,\n",
       "              n_estimators=260, n_jobs=None, num_parallel_tree=None,\n",
       "              predictor=None, random_state=None, reg_alpha=None,\n",
       "              reg_lambda=None, scale_pos_weight=None, subsample=0.8,\n",
       "              tree_method=None, validate_parameters=None, verbosity=None)"
      ]
     },
     "execution_count": 82,
     "metadata": {},
     "output_type": "execute_result"
    }
   ],
   "source": [
    "xgb_model.set_params(n_estimators=cvresult.shape[0])"
   ]
  },
  {
   "cell_type": "code",
   "execution_count": 83,
   "id": "6b77e380",
   "metadata": {},
   "outputs": [
    {
     "name": "stderr",
     "output_type": "stream",
     "text": [
      "/opt/homebrew/Caskroom/miniforge/base/envs/2021_DL/lib/python3.9/site-packages/xgboost/sklearn.py:1224: UserWarning: The use of label encoder in XGBClassifier is deprecated and will be removed in a future release. To remove this warning, do the following: 1) Pass option use_label_encoder=False when constructing XGBClassifier object; and 2) Encode your labels (y) as integers starting with 0, i.e. 0, 1, 2, ..., [num_class - 1].\n",
      "  warnings.warn(label_encoder_deprecation_msg, UserWarning)\n"
     ]
    },
    {
     "data": {
      "text/plain": [
       "XGBClassifier(base_score=0.5, booster='gbtree', colsample_bylevel=1,\n",
       "              colsample_bynode=1, colsample_bytree=0.8,\n",
       "              enable_categorical=False, eta=0.05, eval_metric='auc', gamma=0,\n",
       "              gpu_id=-1, importance_type=None, interaction_constraints='',\n",
       "              learning_rate=0.0500000007, max_delta_step=0, max_depth=5,\n",
       "              min_child_weight=1.5, missing=nan, monotone_constraints='()',\n",
       "              n_estimators=260, n_jobs=8, num_parallel_tree=1, predictor='auto',\n",
       "              random_state=0, reg_alpha=0, reg_lambda=1, scale_pos_weight=1,\n",
       "              subsample=0.8, tree_method='exact', validate_parameters=1,\n",
       "              verbosity=None)"
      ]
     },
     "execution_count": 83,
     "metadata": {},
     "output_type": "execute_result"
    }
   ],
   "source": [
    "xgb_model.fit(X_train, y_train, eval_metric='auc', verbose=True)"
   ]
  },
  {
   "cell_type": "code",
   "execution_count": 87,
   "id": "8f347310",
   "metadata": {},
   "outputs": [
    {
     "name": "stdout",
     "output_type": "stream",
     "text": [
      "[0.46186605 0.5442448  0.4730444  ... 0.47313458 0.49735275 0.41102085]\n",
      "(11847,)\n"
     ]
    }
   ],
   "source": [
    "file_name = '../chk_output/xgb_v1_feature100.csv'\n",
    "y_pred = xgb_model.predict_proba(X_test)[:,1]\n",
    "print(y_pred)\n",
    "print(y_pred.shape)"
   ]
  },
  {
   "cell_type": "code",
   "execution_count": 85,
   "id": "02feffa6",
   "metadata": {},
   "outputs": [],
   "source": [
    "df_submission = pd.read_csv('../chk_output/sample_submission.csv')\n",
    "df_submission['Popularity'] = y_pred\n",
    "df_submission.to_csv(file_name, index=False)"
   ]
  },
  {
   "cell_type": "code",
   "execution_count": null,
   "id": "39e9d581",
   "metadata": {},
   "outputs": [],
   "source": []
  }
 ],
 "metadata": {
  "kernelspec": {
   "display_name": "Python 3.9 (tf_2021DL)",
   "language": "python",
   "name": "tensorflow"
  },
  "language_info": {
   "codemirror_mode": {
    "name": "ipython",
    "version": 3
   },
   "file_extension": ".py",
   "mimetype": "text/x-python",
   "name": "python",
   "nbconvert_exporter": "python",
   "pygments_lexer": "ipython3",
   "version": "3.9.7"
  }
 },
 "nbformat": 4,
 "nbformat_minor": 5
}
